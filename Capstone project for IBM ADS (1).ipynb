{
 "cells": [
  {
   "cell_type": "markdown",
   "metadata": {},
   "source": [
    "# PREDICTING RECESSION IN AFRICA"
   ]
  },
  {
   "cell_type": "markdown",
   "metadata": {},
   "source": [
    "# Loading of libraries"
   ]
  },
  {
   "cell_type": "code",
   "execution_count": 1,
   "metadata": {},
   "outputs": [
    {
     "name": "stdout",
     "output_type": "stream",
     "text": [
      "Requirement already satisfied: pyspark==2.4.5 in /home/jupyterlab/conda/envs/python/lib/python3.6/site-packages (2.4.5)\n",
      "Requirement already satisfied: py4j==0.10.7 in /home/jupyterlab/conda/envs/python/lib/python3.6/site-packages (from pyspark==2.4.5) (0.10.7)\n"
     ]
    }
   ],
   "source": [
    "!pip install pyspark==2.4.5"
   ]
  },
  {
   "cell_type": "code",
   "execution_count": 2,
   "metadata": {},
   "outputs": [
    {
     "name": "stdout",
     "output_type": "stream",
     "text": [
      "Collecting tensorflow==2.2.0rc0\n",
      "\u001b[?25l  Downloading https://files.pythonhosted.org/packages/c2/a9/836bf28d748b12e8e979fb24a0d9d2f0930df913eb958363ed223406a0ca/tensorflow-2.2.0rc0-cp36-cp36m-manylinux2010_x86_64.whl (515.9MB)\n",
      "\u001b[K     |████████████████████████████████| 515.9MB 37kB/s  eta 0:00:012   |▊                               | 11.9MB 6.8MB/s eta 0:01:15     |█▌                              | 23.6MB 5.4MB/s eta 0:01:31     |████▌                           | 72.4MB 5.8MB/s eta 0:01:17     |█████▎                          | 84.8MB 5.4MB/s eta 0:01:21     |█████▍                          | 86.4MB 5.4MB/s eta 0:01:20     |█████▋                          | 90.6MB 5.4MB/s eta 0:01:20     |█████▉                          | 93.2MB 5.4MB/s eta 0:01:19     |██████                          | 95.7MB 5.4MB/s eta 0:01:19     |██████▏                         | 99.1MB 5.9MB/s eta 0:01:12     |██████▏                         | 100.0MB 5.9MB/s eta 0:01:12     |██████▍                         | 103.5MB 5.9MB/s eta 0:01:110                  | 131.4MB 5.5MB/s eta 0:01:10     |████████▎                       | 133.4MB 5.5MB/s eta 0:01:10                  | 140.9MB 5.5MB/s eta 0:01:09     |██████████▊                     | 173.0MB 7.0MB/s eta 0:00:50     |████████████                    | 191.7MB 9.7MB/s eta 0:00:34     |████████████▊                   | 205.1MB 7.1MB/s eta 0:00:44     |████████████▉                   | 207.6MB 7.1MB/s eta 0:00:44        | 209.4MB 7.1MB/s eta 0:00:44��█████████▍                  | 216.1MB 6.8MB/s eta 0:00:44 7.1MB/s eta 0:00:41�██████████▋                | 251.7MB 47.8MB/s eta 0:00:06�██████████▊                | 253.3MB 47.8MB/s eta 0:00:06█████                | 259.6MB 5.5MB/s eta 0:00:47     |████████████████▌               | 265.1MB 5.5MB/s eta 0:00:46    | 277.1MB 5.5MB/s eta 0:00:44    | 281.0MB 6.9MB/s eta 0:00:35     |█████████████████▋              | 283.3MB 6.9MB/s eta 0:00:34     |█████████████████▊              | 286.6MB 6.9MB/s eta 0:00:34     |██████████████████▉             | 303.6MB 6.8MB/s eta 0:00:32��███████████████             | 305.9MB 40.0MB/s eta 0:00:06     | 331.3MB 5.4MB/s eta 0:00:35     |████████████████████▋           | 332.9MB 5.4MB/s eta 0:00:34     |█████████████████████▏          | 342.1MB 5.4MB/s eta 0:00:33     |██████████████████████          | 353.7MB 39.8MB/s eta 0:00:05     |██████████████████████▎         | 359.8MB 47.0MB/s eta 0:00:04     |██████████████████████▋         | 365.3MB 47.0MB/s eta 0:00:04     |████████████████████████▊       | 398.3MB 38.7MB/s eta 0:00:04��█████████████████████▍      | 408.8MB 42.5MB/s eta 0:00:03███████████████████████▉      | 415.7MB 42.5MB/s eta 0:00:03��████████████████████▎  | 472.4MB 5.5MB/s eta 0:00:085.6MB 5.5MB/s eta 0:00:01\n",
      "\u001b[?25hCollecting tensorflow-estimator<2.2.0,>=2.1.0 (from tensorflow==2.2.0rc0)\n",
      "\u001b[?25l  Downloading https://files.pythonhosted.org/packages/18/90/b77c328a1304437ab1310b463e533fa7689f4bfc41549593056d812fab8e/tensorflow_estimator-2.1.0-py2.py3-none-any.whl (448kB)\n",
      "\u001b[K     |████████████████████████████████| 450kB 33.7MB/s eta 0:00:01\n",
      "\u001b[?25hCollecting opt-einsum>=2.3.2 (from tensorflow==2.2.0rc0)\n",
      "\u001b[?25l  Downloading https://files.pythonhosted.org/packages/63/a5/e6c07b08b934831ccb8c98ee335e66b7761c5754ee3cabfe4c11d0b1af28/opt_einsum-3.2.1-py3-none-any.whl (63kB)\n",
      "\u001b[K     |████████████████████████████████| 71kB 4.8MB/s  eta 0:00:01\n",
      "\u001b[?25hRequirement already satisfied: scipy==1.4.1; python_version >= \"3\" in /home/jupyterlab/conda/envs/python/lib/python3.6/site-packages (from tensorflow==2.2.0rc0) (1.4.1)\n",
      "Requirement already satisfied: numpy<2.0,>=1.16.0 in /home/jupyterlab/conda/envs/python/lib/python3.6/site-packages (from tensorflow==2.2.0rc0) (1.18.4)\n",
      "Collecting keras-preprocessing>=1.1.0 (from tensorflow==2.2.0rc0)\n",
      "\u001b[?25l  Downloading https://files.pythonhosted.org/packages/79/4c/7c3275a01e12ef9368a892926ab932b33bb13d55794881e3573482b378a7/Keras_Preprocessing-1.1.2-py2.py3-none-any.whl (42kB)\n",
      "\u001b[K     |████████████████████████████████| 51kB 18.6MB/s eta 0:00:01\n",
      "\u001b[?25hCollecting google-pasta>=0.1.8 (from tensorflow==2.2.0rc0)\n",
      "\u001b[?25l  Downloading https://files.pythonhosted.org/packages/a3/de/c648ef6835192e6e2cc03f40b19eeda4382c49b5bafb43d88b931c4c74ac/google_pasta-0.2.0-py3-none-any.whl (57kB)\n",
      "\u001b[K     |████████████████████████████████| 61kB 23.7MB/s eta 0:00:01\n",
      "\u001b[?25hRequirement already satisfied: protobuf>=3.8.0 in /home/jupyterlab/conda/envs/python/lib/python3.6/site-packages (from tensorflow==2.2.0rc0) (3.11.4)\n",
      "Requirement already satisfied: six>=1.12.0 in /home/jupyterlab/conda/envs/python/lib/python3.6/site-packages (from tensorflow==2.2.0rc0) (1.14.0)\n",
      "Collecting tensorboard<2.2.0,>=2.1.0 (from tensorflow==2.2.0rc0)\n",
      "\u001b[?25l  Downloading https://files.pythonhosted.org/packages/d9/41/bbf49b61370e4f4d245d4c6051dfb6db80cec672605c91b1652ac8cc3d38/tensorboard-2.1.1-py3-none-any.whl (3.8MB)\n",
      "\u001b[K     |████████████████████████████████| 3.9MB 30.9MB/s eta 0:00:01\n",
      "\u001b[?25hCollecting astunparse==1.6.3 (from tensorflow==2.2.0rc0)\n",
      "  Downloading https://files.pythonhosted.org/packages/2b/03/13dde6512ad7b4557eb792fbcf0c653af6076b81e5941d36ec61f7ce6028/astunparse-1.6.3-py2.py3-none-any.whl\n",
      "Collecting wrapt>=1.11.1 (from tensorflow==2.2.0rc0)\n",
      "  Downloading https://files.pythonhosted.org/packages/82/f7/e43cefbe88c5fd371f4cf0cf5eb3feccd07515af9fd6cf7dbf1d1793a797/wrapt-1.12.1.tar.gz\n",
      "Collecting h5py<2.11.0,>=2.10.0 (from tensorflow==2.2.0rc0)\n",
      "\u001b[?25l  Downloading https://files.pythonhosted.org/packages/60/06/cafdd44889200e5438b897388f3075b52a8ef01f28a17366d91de0fa2d05/h5py-2.10.0-cp36-cp36m-manylinux1_x86_64.whl (2.9MB)\n",
      "\u001b[K     |████████████████████████████████| 2.9MB 34.4MB/s eta 0:00:01\n",
      "\u001b[?25hRequirement already satisfied: termcolor>=1.1.0 in /home/jupyterlab/conda/envs/python/lib/python3.6/site-packages (from tensorflow==2.2.0rc0) (1.1.0)\n",
      "Requirement already satisfied: gast==0.3.3 in /home/jupyterlab/conda/envs/python/lib/python3.6/site-packages (from tensorflow==2.2.0rc0) (0.3.3)\n",
      "Requirement already satisfied: absl-py>=0.7.0 in /home/jupyterlab/conda/envs/python/lib/python3.6/site-packages (from tensorflow==2.2.0rc0) (0.9.0)\n",
      "Requirement already satisfied: grpcio>=1.8.6 in /home/jupyterlab/conda/envs/python/lib/python3.6/site-packages (from tensorflow==2.2.0rc0) (1.23.0)\n",
      "Requirement already satisfied: wheel>=0.26; python_version >= \"3\" in /home/jupyterlab/conda/envs/python/lib/python3.6/site-packages (from tensorflow==2.2.0rc0) (0.34.2)\n",
      "Requirement already satisfied: setuptools in /home/jupyterlab/conda/envs/python/lib/python3.6/site-packages (from protobuf>=3.8.0->tensorflow==2.2.0rc0) (46.3.0.post20200513)\n",
      "Requirement already satisfied: markdown>=2.6.8 in /home/jupyterlab/conda/envs/python/lib/python3.6/site-packages (from tensorboard<2.2.0,>=2.1.0->tensorflow==2.2.0rc0) (3.2.2)\n",
      "Requirement already satisfied: werkzeug>=0.11.15 in /home/jupyterlab/conda/envs/python/lib/python3.6/site-packages (from tensorboard<2.2.0,>=2.1.0->tensorflow==2.2.0rc0) (1.0.1)\n",
      "Requirement already satisfied: requests<3,>=2.21.0 in /home/jupyterlab/conda/envs/python/lib/python3.6/site-packages (from tensorboard<2.2.0,>=2.1.0->tensorflow==2.2.0rc0) (2.23.0)\n",
      "Collecting google-auth<2,>=1.6.3 (from tensorboard<2.2.0,>=2.1.0->tensorflow==2.2.0rc0)\n",
      "\u001b[?25l  Downloading https://files.pythonhosted.org/packages/88/8c/d161e4653a574e2299bc7d1cae14f08db74f828febaf30a1b7e216680085/google_auth-1.16.0-py2.py3-none-any.whl (90kB)\n",
      "\u001b[K     |████████████████████████████████| 92kB 4.7MB/s  eta 0:00:01\n",
      "\u001b[?25hCollecting google-auth-oauthlib<0.5,>=0.4.1 (from tensorboard<2.2.0,>=2.1.0->tensorflow==2.2.0rc0)\n",
      "  Downloading https://files.pythonhosted.org/packages/7b/b8/88def36e74bee9fce511c9519571f4e485e890093ab7442284f4ffaef60b/google_auth_oauthlib-0.4.1-py2.py3-none-any.whl\n",
      "Requirement already satisfied: importlib-metadata; python_version < \"3.8\" in /home/jupyterlab/conda/envs/python/lib/python3.6/site-packages (from markdown>=2.6.8->tensorboard<2.2.0,>=2.1.0->tensorflow==2.2.0rc0) (1.6.0)\n",
      "Requirement already satisfied: certifi>=2017.4.17 in /home/jupyterlab/conda/envs/python/lib/python3.6/site-packages (from requests<3,>=2.21.0->tensorboard<2.2.0,>=2.1.0->tensorflow==2.2.0rc0) (2020.4.5.1)\n",
      "Requirement already satisfied: chardet<4,>=3.0.2 in /home/jupyterlab/conda/envs/python/lib/python3.6/site-packages (from requests<3,>=2.21.0->tensorboard<2.2.0,>=2.1.0->tensorflow==2.2.0rc0) (3.0.4)\n",
      "Requirement already satisfied: urllib3!=1.25.0,!=1.25.1,<1.26,>=1.21.1 in /home/jupyterlab/conda/envs/python/lib/python3.6/site-packages (from requests<3,>=2.21.0->tensorboard<2.2.0,>=2.1.0->tensorflow==2.2.0rc0) (1.25.9)\n",
      "Requirement already satisfied: idna<3,>=2.5 in /home/jupyterlab/conda/envs/python/lib/python3.6/site-packages (from requests<3,>=2.21.0->tensorboard<2.2.0,>=2.1.0->tensorflow==2.2.0rc0) (2.9)\n",
      "Collecting rsa<4.1,>=3.1.4 (from google-auth<2,>=1.6.3->tensorboard<2.2.0,>=2.1.0->tensorflow==2.2.0rc0)\n",
      "  Downloading https://files.pythonhosted.org/packages/02/e5/38518af393f7c214357079ce67a317307936896e961e35450b70fad2a9cf/rsa-4.0-py2.py3-none-any.whl\n",
      "Collecting cachetools<5.0,>=2.0.0 (from google-auth<2,>=1.6.3->tensorboard<2.2.0,>=2.1.0->tensorflow==2.2.0rc0)\n",
      "  Downloading https://files.pythonhosted.org/packages/b3/59/524ffb454d05001e2be74c14745b485681c6ed5f2e625f71d135704c0909/cachetools-4.1.0-py3-none-any.whl\n",
      "Requirement already satisfied: pyasn1-modules>=0.2.1 in /home/jupyterlab/conda/envs/python/lib/python3.6/site-packages (from google-auth<2,>=1.6.3->tensorboard<2.2.0,>=2.1.0->tensorflow==2.2.0rc0) (0.2.8)\n",
      "Collecting requests-oauthlib>=0.7.0 (from google-auth-oauthlib<0.5,>=0.4.1->tensorboard<2.2.0,>=2.1.0->tensorflow==2.2.0rc0)\n",
      "  Downloading https://files.pythonhosted.org/packages/a3/12/b92740d845ab62ea4edf04d2f4164d82532b5a0b03836d4d4e71c6f3d379/requests_oauthlib-1.3.0-py2.py3-none-any.whl\n",
      "Requirement already satisfied: zipp>=0.5 in /home/jupyterlab/conda/envs/python/lib/python3.6/site-packages (from importlib-metadata; python_version < \"3.8\"->markdown>=2.6.8->tensorboard<2.2.0,>=2.1.0->tensorflow==2.2.0rc0) (3.1.0)\n",
      "Requirement already satisfied: pyasn1>=0.1.3 in /home/jupyterlab/conda/envs/python/lib/python3.6/site-packages (from rsa<4.1,>=3.1.4->google-auth<2,>=1.6.3->tensorboard<2.2.0,>=2.1.0->tensorflow==2.2.0rc0) (0.4.8)\n",
      "Collecting oauthlib>=3.0.0 (from requests-oauthlib>=0.7.0->google-auth-oauthlib<0.5,>=0.4.1->tensorboard<2.2.0,>=2.1.0->tensorflow==2.2.0rc0)\n",
      "\u001b[?25l  Downloading https://files.pythonhosted.org/packages/05/57/ce2e7a8fa7c0afb54a0581b14a65b56e62b5759dbc98e80627142b8a3704/oauthlib-3.1.0-py2.py3-none-any.whl (147kB)\n",
      "\u001b[K     |████████████████████████████████| 153kB 40.6MB/s eta 0:00:01\n",
      "\u001b[?25hBuilding wheels for collected packages: wrapt\n",
      "  Building wheel for wrapt (setup.py) ... \u001b[?25ldone\n",
      "\u001b[?25h  Stored in directory: /home/jupyterlab/.cache/pip/wheels/b1/c2/ed/d62208260edbd3fa7156545c00ef966f45f2063d0a84f8208a\n",
      "Successfully built wrapt\n",
      "\u001b[31mERROR: tensorboard 2.1.1 has requirement grpcio>=1.24.3, but you'll have grpcio 1.23.0 which is incompatible.\u001b[0m\n",
      "Installing collected packages: tensorflow-estimator, opt-einsum, keras-preprocessing, google-pasta, rsa, cachetools, google-auth, oauthlib, requests-oauthlib, google-auth-oauthlib, tensorboard, astunparse, wrapt, h5py, tensorflow\n",
      "  Found existing installation: tensorboard 1.8.0\n",
      "    Uninstalling tensorboard-1.8.0:\n",
      "      Successfully uninstalled tensorboard-1.8.0\n",
      "  Found existing installation: h5py 2.8.0\n",
      "    Uninstalling h5py-2.8.0:\n",
      "      Successfully uninstalled h5py-2.8.0\n",
      "  Found existing installation: tensorflow 1.8.0\n",
      "    Uninstalling tensorflow-1.8.0:\n",
      "      Successfully uninstalled tensorflow-1.8.0\n",
      "Successfully installed astunparse-1.6.3 cachetools-4.1.0 google-auth-1.16.0 google-auth-oauthlib-0.4.1 google-pasta-0.2.0 h5py-2.10.0 keras-preprocessing-1.1.2 oauthlib-3.1.0 opt-einsum-3.2.1 requests-oauthlib-1.3.0 rsa-4.0 tensorboard-2.1.1 tensorflow-2.2.0rc0 tensorflow-estimator-2.1.0 wrapt-1.12.1\n"
     ]
    }
   ],
   "source": [
    "!pip install tensorflow==2.2.0rc0"
   ]
  },
  {
   "cell_type": "code",
   "execution_count": 9,
   "metadata": {},
   "outputs": [],
   "source": [
    "#Libraries for spark sql API\n",
    "try:\n",
    "    from pyspark import SparkContext, SparkConf\n",
    "    from pyspark.sql import SparkSession\n",
    "except ImportError as e:\n",
    "    printmd('<<<<<!!!!! Please restart your kernel after installing Apache Spark !!!!!>>>>>')\n",
    "from pyspark.sql import SQLContext\n",
    "from pyspark.sql.functions import col, explode, array, lit\n",
    "from pyspark.sql.functions import isnan, when, count, col"
   ]
  },
  {
   "cell_type": "code",
   "execution_count": 10,
   "metadata": {},
   "outputs": [],
   "source": [
    "#Setting up spark session\n",
    "sc = SparkContext.getOrCreate(SparkConf().setMaster(\"local[*]\"))\n",
    "sqlContext = SQLContext(sc)\n",
    "spark = SparkSession \\\n",
    "    .builder \\\n",
    "    .getOrCreate()"
   ]
  },
  {
   "cell_type": "code",
   "execution_count": 11,
   "metadata": {},
   "outputs": [],
   "source": [
    "#Libraries for spark machine learning API\n",
    "from pyspark.ml.feature import VectorAssembler\n",
    "from pyspark.ml.classification import RandomForestClassifier\n",
    "from pyspark.ml import Pipeline\n",
    "from pyspark.ml.tuning import CrossValidator\n",
    "from pyspark.ml.classification import RandomForestClassifier\n",
    "from pyspark.ml.evaluation import BinaryClassificationEvaluator\n",
    "from pyspark.ml.tuning import ParamGridBuilder\n",
    "from pyspark.ml import PipelineModel"
   ]
  },
  {
   "cell_type": "code",
   "execution_count": 3,
   "metadata": {},
   "outputs": [],
   "source": [
    "#Libraries for deep learning\n",
    "#from tensorflow.keras import Sequential\n",
    "import tensorflow\n",
    "from tensorflow.keras.layers import Dense, Dropout\n",
    "from tensorflow.keras.layers import LSTM\n",
    "from tensorflow.keras.callbacks import Callback\n",
    "from tensorflow.keras.models import Sequential\n",
    "from tensorflow.keras.layers import LSTM, Dense, Activation\n",
    "from tensorflow.keras import optimizers"
   ]
  },
  {
   "cell_type": "code",
   "execution_count": 4,
   "metadata": {},
   "outputs": [],
   "source": [
    "#sklearn libraries\n",
    "from sklearn import preprocessing\n",
    "from sklearn.preprocessing import scale\n",
    "from sklearn.metrics import precision_score\n",
    "from sklearn.metrics import recall_score\n",
    "from sklearn.metrics import accuracy_score\n",
    "from sklearn.metrics import f1_score"
   ]
  },
  {
   "cell_type": "code",
   "execution_count": 5,
   "metadata": {},
   "outputs": [],
   "source": [
    "#Libraries for manipulating data structure\n",
    "import numpy as np\n",
    "import pandas as pd"
   ]
  },
  {
   "cell_type": "code",
   "execution_count": 6,
   "metadata": {},
   "outputs": [],
   "source": [
    "#Plotting library\n",
    "%matplotlib inline\n",
    "import matplotlib.pyplot as plt"
   ]
  },
  {
   "cell_type": "markdown",
   "metadata": {},
   "source": [
    "# Loading dataset "
   ]
  },
  {
   "cell_type": "markdown",
   "metadata": {},
   "source": [
    "The data was obtained from https://www.kaggle.com/chirin/african-country-recession-dataset-2000-to-2017"
   ]
  },
  {
   "cell_type": "markdown",
   "metadata": {},
   "source": [
    "The dataset has 49 feature variables and 1 target variable (i.e. the ‘growthbucket’ variable). There is a total of 486 samples in the dataset. 92.81% of the samples belong to the “0”, or “No_Recession” class. And, 7.82% of the samples belong to the “1” or “Recession” class. In short, the dataset has a class imbalance. It is useful for learning techniques for dealing with class imbalance like Cost-Sensitive Classification, Oversampling and Undersampling. For descriptions of the variables, see the attached file named: VariableDefinitions.csv\n",
    "\n",
    "Years Covered: 2000 to 2017.\n",
    "\n",
    "Countries Covered: 27 African Countries Including: Morocco, South Africa, Tanzania, Rwanda, Eswatini, Togo, Burkina Faso, Angola, Tunisia, Nigeria, Kenya, Burundi, Benin, Namibia, Central African Republic, Sudan, Gabon, Niger, Sierra Leone, Lesotho, Mauritania, Senegal, Mauritius, Botswana, Cameroon, Zimbabwe and Mozambique."
   ]
  },
  {
   "cell_type": "code",
   "execution_count": 12,
   "metadata": {},
   "outputs": [
    {
     "name": "stdout",
     "output_type": "stream",
     "text": [
      "+-----------+-----------+----------------+-----------+-----------+-----------+-----------+-----------+-----------+-----------+-----------+-----------+-----------+-----------+-----------+-----------+-----------+-----------+-----------+-----------+-----------+-----------+-----------+-----------+-----------+-----------+-----------+------------+-----------+-----------+----------+-----------+-----------+-----------+-----------+------+-----------+------+---------------+--------+-----------+------+------------+------------------+-------------+----------------------+---------------+------------------+-----------+------------+\n",
      "|        pop|        emp|emp_to_pop_ratio|         hc|       ccon|        cda|         cn|         ck|       ctfp|      cwtfp|     rconna|      rdana|       rnna|       rkna|     rtfpna|    rwtfpna|      labsh|        irr|      delta|         xr|     pl_con|      pl_da|    pl_gdpo|      csh_c|      csh_i|      csh_g|      csh_x|       csh_m|      csh_r|       pl_c|      pl_i|       pl_g|       pl_x|       pl_m|       pl_n| total|excl_energy|energy|metals_minerals|forestry|agriculture|  fish|total_change|excl_energy_change|energy_change|metals_minerals_change|forestry_change|agriculture_change|fish_change|growthbucket|\n",
      "+-----------+-----------+----------------+-----------+-----------+-----------+-----------+-----------+-----------+-----------+-----------+-----------+-----------+-----------+-----------+-----------+-----------+-----------+-----------+-----------+-----------+-----------+-----------+-----------+-----------+-----------+-----------+------------+-----------+-----------+----------+-----------+-----------+-----------+-----------+------+-----------+------+---------------+--------+-----------+------+------------+------------------+-------------+----------------------+---------------+------------------+-----------+------------+\n",
      "|28.84962082|6.914297581|     0.239666844|1.547767282|99010.17188| 131991.375|426543.3438| 0.00937374|0.648979425|0.626111448|95642.99219|131823.7031|703953.4375|0.512763619|1.068517685|1.008856535|0.483403444|0.119198628|0.043678686| 10.6256361|0.307452083| 0.30912292|0.295913756|0.618509114|0.250884116|0.134649411|0.121411256|-0.182028159|0.056574266|0.289767981| 0.3141388|0.388683647|0.465633303|0.481975228|0.278864503|327.86|     223.05|769.06|         268.89|  289.58|     149.37|876.46| 0.264843177|       0.012115437|  0.717188407|            0.09993455|   -0.061176852|       0.073986195|0.007575845|           0|\n",
      "|45.72831345|  13.623806|     0.297929335|2.086036682|316862.6563|374842.3438|  804602.25|0.019657943|0.719389796|0.657542825|308969.1563|379569.9063|1669635.625|0.647240102|0.973863304| 0.86594218|0.561061502|0.108611055|0.042740334|6.939828396|0.348586202|0.354219735|0.351310313|0.670726597|0.147135794|0.133379981|0.135068387|-0.130605608|0.044294883| 0.32361728|0.38500753|0.474147141|0.494095355|0.520164788|0.444091499|327.86|     223.05|769.06|         268.89|  289.58|     149.37|876.46| 0.264843177|       0.012115437|  0.717188407|            0.09993455|   -0.061176852|       0.073986195|0.007575845|           0|\n",
      "+-----------+-----------+----------------+-----------+-----------+-----------+-----------+-----------+-----------+-----------+-----------+-----------+-----------+-----------+-----------+-----------+-----------+-----------+-----------+-----------+-----------+-----------+-----------+-----------+-----------+-----------+-----------+------------+-----------+-----------+----------+-----------+-----------+-----------+-----------+------+-----------+------+---------------+--------+-----------+------+------------+------------------+-------------+----------------------+---------------+------------------+-----------+------------+\n",
      "only showing top 2 rows\n",
      "\n"
     ]
    }
   ],
   "source": [
    "#Reading in the data as pyspark dataframe\n",
    "df=sqlContext.read.format(\"com.databricks.spark.csv\").options(header=True, inferschema='true').load('africa_recession.csv')\n",
    "df.show(2)"
   ]
  },
  {
   "cell_type": "code",
   "execution_count": 13,
   "metadata": {},
   "outputs": [
    {
     "name": "stdout",
     "output_type": "stream",
     "text": [
      "486 samples\n"
     ]
    }
   ],
   "source": [
    "print(\"{} samples\".format(df.count()))"
   ]
  },
  {
   "cell_type": "code",
   "execution_count": 8,
   "metadata": {},
   "outputs": [
    {
     "name": "stdout",
     "output_type": "stream",
     "text": [
      "49 Indicators of recession :  ['pop', 'emp', 'emp_to_pop_ratio', 'hc', 'ccon', 'cda', 'cn', 'ck', 'ctfp', 'cwtfp', 'rconna', 'rdana', 'rnna', 'rkna', 'rtfpna', 'rwtfpna', 'labsh', 'irr', 'delta', 'xr', 'pl_con', 'pl_da', 'pl_gdpo', 'csh_c', 'csh_i', 'csh_g', 'csh_x', 'csh_m', 'csh_r', 'pl_c', 'pl_i', 'pl_g', 'pl_x', 'pl_m', 'pl_n', 'total', 'excl_energy', 'energy', 'metals_minerals', 'forestry', 'agriculture', 'fish', 'total_change', 'excl_energy_change', 'energy_change', 'metals_minerals_change', 'forestry_change', 'agriculture_change', 'fish_change']\n"
     ]
    }
   ],
   "source": [
    "print(\"{} Indicators of recession : \".format(len(df.columns[0:-1])), df.columns[0:-1])"
   ]
  },
  {
   "cell_type": "markdown",
   "metadata": {},
   "source": [
    "# Data exploration"
   ]
  },
  {
   "cell_type": "markdown",
   "metadata": {},
   "source": [
    "The following outputs where used to check the scales of each variable"
   ]
  },
  {
   "cell_type": "code",
   "execution_count": 19,
   "metadata": {},
   "outputs": [
    {
     "name": "stdout",
     "output_type": "stream",
     "text": [
      "+-------+------------------+-----------------+-------------------+-------------------+------------------+\n",
      "|summary|               pop|              emp|   emp_to_pop_ratio|                 hc|              ccon|\n",
      "+-------+------------------+-----------------+-------------------+-------------------+------------------+\n",
      "|  count|               486|              486|                486|                486|               486|\n",
      "|   mean|20.185754885652248|7.121089245207817| 0.3578652745617284| 1.7773887860905349| 64361.00694201231|\n",
      "| stddev|30.037490202762267|9.921471471074096|0.08054086639686492|0.44633861429825583|129634.85679349456|\n",
      "|    min|       1.061468005|      0.243000001|        0.198212003|        1.069451332|       2781.259277|\n",
      "|    max|       190.8863068|      65.15654755|        0.555432802|        2.885299683|       758455.1875|\n",
      "+-------+------------------+-----------------+-------------------+-------------------+------------------+\n",
      "\n"
     ]
    }
   ],
   "source": [
    "df.describe(df.columns[0:5]).show()"
   ]
  },
  {
   "cell_type": "code",
   "execution_count": 17,
   "metadata": {},
   "outputs": [
    {
     "name": "stdout",
     "output_type": "stream",
     "text": [
      "+-------+------------------+------------------+--------------------+-------------------+------------------+\n",
      "|summary|               cda|                cn|                  ck|               ctfp|             cwtfp|\n",
      "+-------+------------------+------------------+--------------------+-------------------+------------------+\n",
      "|  count|               486|               486|                 486|                486|               486|\n",
      "|   mean| 80885.98872198758|244224.40158693204|0.004582722318930041|0.45441859672222246|0.4534312095493823|\n",
      "| stddev|156740.41662413004| 472516.2979172557|0.008209903016915406|0.20656236586299276|0.2030563150206612|\n",
      "|    min|       2984.366943|       5790.396973|          1.23774E-4|        0.098621696|       0.107789844|\n",
      "|    max|       896604.8125|        2886311.75|         0.041834991|        0.998187423|       1.031707048|\n",
      "+-------+------------------+------------------+--------------------+-------------------+------------------+\n",
      "\n"
     ]
    }
   ],
   "source": [
    "df.describe(df.columns[5:10]).show()"
   ]
  },
  {
   "cell_type": "code",
   "execution_count": 21,
   "metadata": {},
   "outputs": [
    {
     "name": "stdout",
     "output_type": "stream",
     "text": [
      "+-------+------------------+-----------------+------------------+-------------------+-------------------+\n",
      "|summary|            rconna|            rdana|              rnna|               rkna|             rtfpna|\n",
      "+-------+------------------+-----------------+------------------+-------------------+-------------------+\n",
      "|  count|               486|              486|               486|                486|                486|\n",
      "|   mean| 68169.77934318932|86894.64883008639| 296093.2786490888| 0.9220192882551435| 0.9888842253045266|\n",
      "| stddev|136352.26885326326|164892.3023420776|512625.14477239724|0.34027744883601946|0.14348247614132065|\n",
      "|    min|       2786.592285|      2978.288574|       8735.905273|        0.136823729|        0.429514736|\n",
      "|    max|       762126.9375|      908560.6875|        2592378.25|        3.033908606|        1.956829548|\n",
      "+-------+------------------+-----------------+------------------+-------------------+-------------------+\n",
      "\n"
     ]
    }
   ],
   "source": [
    "df.describe(df.columns[10:15]).show()"
   ]
  },
  {
   "cell_type": "code",
   "execution_count": 22,
   "metadata": {},
   "outputs": [
    {
     "name": "stdout",
     "output_type": "stream",
     "text": [
      "+-------+-------------------+-------------------+-------------------+--------------------+------------------+\n",
      "|summary|            rwtfpna|              labsh|                irr|               delta|                xr|\n",
      "+-------+-------------------+-------------------+-------------------+--------------------+------------------+\n",
      "|  count|                486|                486|                486|                 486|               486|\n",
      "|   mean| 0.9561870828662553| 0.5131589145349796|0.11596246746090536| 0.04808690821604938|447.06946015922625|\n",
      "| stddev|0.14085954440264598|0.14892250695617115| 0.0736901672550211|0.012163260326569792| 797.2593271840798|\n",
      "|    min|        0.382910192|         0.16431579|               0.01|         0.024867065|               1.0|\n",
      "|    max|        1.447287679|        0.837298691|        0.430071384|          0.09394379|       7384.432129|\n",
      "+-------+-------------------+-------------------+-------------------+--------------------+------------------+\n",
      "\n"
     ]
    }
   ],
   "source": [
    "df.describe(df.columns[15:20]).show()"
   ]
  },
  {
   "cell_type": "code",
   "execution_count": 23,
   "metadata": {},
   "outputs": [
    {
     "name": "stdout",
     "output_type": "stream",
     "text": [
      "+-------+-------------------+-------------------+-------------------+------------------+-------------------+\n",
      "|summary|             pl_con|              pl_da|            pl_gdpo|             csh_c|              csh_i|\n",
      "+-------+-------------------+-------------------+-------------------+------------------+-------------------+\n",
      "|  count|                486|                486|                486|               486|                486|\n",
      "|   mean| 0.4205104221810698| 0.4250046772098768|0.41156152709259247|0.6793537782469138|0.20676868048353902|\n",
      "| stddev|0.12624465354157688|0.11707167291848977|0.11726634518664612|0.1589025524578558|0.08899342345782149|\n",
      "|    min|        0.150231093|        0.146762177|        0.128689289|       0.223663121|        0.049953714|\n",
      "|    max|        0.928638339|        0.866255581|        0.809904158|        0.99950105|         0.55602622|\n",
      "+-------+-------------------+-------------------+-------------------+------------------+-------------------+\n",
      "\n"
     ]
    }
   ],
   "source": [
    "df.describe(df.columns[20:25]).show()"
   ]
  },
  {
   "cell_type": "code",
   "execution_count": 24,
   "metadata": {},
   "outputs": [
    {
     "name": "stdout",
     "output_type": "stream",
     "text": [
      "+-------+-------------------+-------------------+--------------------+--------------------+-------------------+\n",
      "|summary|              csh_g|              csh_x|               csh_m|               csh_r|               pl_c|\n",
      "+-------+-------------------+-------------------+--------------------+--------------------+-------------------+\n",
      "|  count|                486|                486|                 486|                 486|                486|\n",
      "|   mean|0.17406058339094643|0.16854312304115232|-0.22567706920987654|-0.00304909612328...| 0.4307191799444443|\n",
      "| stddev|0.06308155535494409|0.14238558757936626| 0.13254550020918146| 0.09013044379846463|0.13607592446093325|\n",
      "|    min|        0.016554305|        0.012206023|        -0.784459949|        -0.652756393|        0.154627383|\n",
      "|    max|        0.406014323|        0.843245864|        -0.017928151|         0.634477556|        0.983001471|\n",
      "+-------+-------------------+-------------------+--------------------+--------------------+-------------------+\n",
      "\n"
     ]
    }
   ],
   "source": [
    "df.describe(df.columns[25:30]).show()"
   ]
  },
  {
   "cell_type": "code",
   "execution_count": 25,
   "metadata": {},
   "outputs": [
    {
     "name": "stdout",
     "output_type": "stream",
     "text": [
      "+-------+-------------------+-------------------+-------------------+-------------------+------------------+\n",
      "|summary|               pl_i|               pl_g|               pl_x|               pl_m|              pl_n|\n",
      "+-------+-------------------+-------------------+-------------------+-------------------+------------------+\n",
      "|  count|                486|                486|                486|                486|               486|\n",
      "|   mean|0.47453458612139937| 0.4070576722983542| 0.6230575815288063| 0.5925599934115229|0.3944885685781893|\n",
      "| stddev|0.14265934853514117|0.16030848943291412|0.10442528183751369|0.07635783264172206|0.3868741541022512|\n",
      "|    min|        0.030469509|        0.044227377|        0.375171423|        0.432635695|       0.062743843|\n",
      "|    max|        1.183658481|        1.205252767|        1.143189669|        1.077167511|        6.04815197|\n",
      "+-------+-------------------+-------------------+-------------------+-------------------+------------------+\n",
      "\n"
     ]
    }
   ],
   "source": [
    "df.describe(df.columns[30:35]).show()"
   ]
  },
  {
   "cell_type": "code",
   "execution_count": 26,
   "metadata": {},
   "outputs": [
    {
     "name": "stdout",
     "output_type": "stream",
     "text": [
      "+-------+-----------------+------------------+------------------+------------------+-----------------+\n",
      "|summary|            total|       excl_energy|            energy|   metals_minerals|         forestry|\n",
      "+-------+-----------------+------------------+------------------+------------------+-----------------+\n",
      "|  count|              486|               486|               486|               486|              486|\n",
      "|   mean|480.4333333333329|315.39166666666665| 1205.329999999995|  512.912222222222|322.4116666666655|\n",
      "| stddev|132.3236815329477| 65.32237959993458|416.62893979838447|173.04087617205295|44.31522162799297|\n",
      "|    min|           274.69|            205.27|            586.13|             241.9|           245.56|\n",
      "|    max|           689.92|            415.18|           1985.48|            775.13|           417.58|\n",
      "+-------+-----------------+------------------+------------------+------------------+-----------------+\n",
      "\n"
     ]
    }
   ],
   "source": [
    "df.describe(df.columns[35:40]).show()"
   ]
  },
  {
   "cell_type": "code",
   "execution_count": 27,
   "metadata": {},
   "outputs": [
    {
     "name": "stdout",
     "output_type": "stream",
     "text": [
      "+-------+-----------------+------------------+--------------------+--------------------+-------------------+\n",
      "|summary|      agriculture|              fish|        total_change|  excl_energy_change|      energy_change|\n",
      "+-------+-----------------+------------------+--------------------+--------------------+-------------------+\n",
      "|  count|              486|               486|                 486|                 486|                486|\n",
      "|   mean|221.3266666666671|1009.4455555555575|0.044535174388889036|0.030345598888888586|0.08241084088888918|\n",
      "| stddev|49.80398099850023|140.12595066839575| 0.18402456901078063| 0.10561553527553064| 0.2884542943408308|\n",
      "|    min|           149.37|            843.66|        -0.359446025|        -0.173740819|       -0.477016807|\n",
      "|    max|           308.05|           1276.53|         0.264843177|         0.218346485|        0.717188407|\n",
      "+-------+-----------------+------------------+--------------------+--------------------+-------------------+\n",
      "\n"
     ]
    }
   ],
   "source": [
    "df.describe(df.columns[40:45]).show()"
   ]
  },
  {
   "cell_type": "code",
   "execution_count": 29,
   "metadata": {},
   "outputs": [
    {
     "name": "stdout",
     "output_type": "stream",
     "text": [
      "+-------+----------------------+--------------------+-------------------+--------------------+\n",
      "|summary|metals_minerals_change|     forestry_change| agriculture_change|         fish_change|\n",
      "+-------+----------------------+--------------------+-------------------+--------------------+\n",
      "|  count|                   486|                 486|                486|                 486|\n",
      "|   mean|   0.05814413955555613|0.024774265611111106|0.03392966194444454|0.023741117222222264|\n",
      "| stddev|   0.15128549068573974| 0.12992404172216235| 0.1271012988485256|  0.0769372588231712|\n",
      "|    min|          -0.157563882|        -0.174550411|       -0.225998493|         -0.11385837|\n",
      "|    max|           0.476204364|         0.300217461|        0.320880178|         0.165440237|\n",
      "+-------+----------------------+--------------------+-------------------+--------------------+\n",
      "\n"
     ]
    }
   ],
   "source": [
    "df.describe(df.columns[45:49]).show()"
   ]
  },
  {
   "cell_type": "markdown",
   "metadata": {},
   "source": [
    "The following was used to check if there are missing values"
   ]
  },
  {
   "cell_type": "code",
   "execution_count": 9,
   "metadata": {},
   "outputs": [
    {
     "name": "stdout",
     "output_type": "stream",
     "text": [
      "+---+---+----------------+---+----+---+---+---+----+-----+------+-----+----+----+------+-------+-----+---+-----+---+------+-----+-------+-----+-----+-----+-----+-----+-----+----+----+----+----+----+----+-----+-----------+------+---------------+--------+-----------+----+------------+------------------+-------------+----------------------+---------------+------------------+-----------+------------+\n",
      "|pop|emp|emp_to_pop_ratio| hc|ccon|cda| cn| ck|ctfp|cwtfp|rconna|rdana|rnna|rkna|rtfpna|rwtfpna|labsh|irr|delta| xr|pl_con|pl_da|pl_gdpo|csh_c|csh_i|csh_g|csh_x|csh_m|csh_r|pl_c|pl_i|pl_g|pl_x|pl_m|pl_n|total|excl_energy|energy|metals_minerals|forestry|agriculture|fish|total_change|excl_energy_change|energy_change|metals_minerals_change|forestry_change|agriculture_change|fish_change|growthbucket|\n",
      "+---+---+----------------+---+----+---+---+---+----+-----+------+-----+----+----+------+-------+-----+---+-----+---+------+-----+-------+-----+-----+-----+-----+-----+-----+----+----+----+----+----+----+-----+-----------+------+---------------+--------+-----------+----+------------+------------------+-------------+----------------------+---------------+------------------+-----------+------------+\n",
      "|  0|  0|               0|  0|   0|  0|  0|  0|   0|    0|     0|    0|   0|   0|     0|      0|    0|  0|    0|  0|     0|    0|      0|    0|    0|    0|    0|    0|    0|   0|   0|   0|   0|   0|   0|    0|          0|     0|              0|       0|          0|   0|           0|                 0|            0|                     0|              0|                 0|          0|           0|\n",
      "+---+---+----------------+---+----+---+---+---+----+-----+------+-----+----+----+------+-------+-----+---+-----+---+------+-----+-------+-----+-----+-----+-----+-----+-----+----+----+----+----+----+----+-----+-----------+------+---------------+--------+-----------+----+------------+------------------+-------------+----------------------+---------------+------------------+-----------+------------+\n",
      "\n"
     ]
    }
   ],
   "source": [
    "df.select([count(when(isnan(c), c)).alias(c) for c in df.columns]).show()"
   ]
  },
  {
   "cell_type": "code",
   "execution_count": 14,
   "metadata": {},
   "outputs": [],
   "source": [
    "#Converting pyspark dataframe to pandas dataframe\n",
    "df_pd=df.toPandas()"
   ]
  },
  {
   "cell_type": "markdown",
   "metadata": {},
   "source": [
    "The following boxplots were used to check for presence of outliers in each variable"
   ]
  },
  {
   "cell_type": "code",
   "execution_count": 97,
   "metadata": {},
   "outputs": [
    {
     "data": {
      "image/png": "[encoded data removed]",
      "text/plain": [
       "<Figure size 1080x2448 with 1 Axes>"
      ]
     },
     "metadata": {
      "needs_background": "light"
     },
     "output_type": "display_data"
    }
   ],
   "source": [
    "#Box plot creation\n",
    "data_bp = df_pd.drop(['growthbucket'], axis=1)\n",
    "data_scaled = scale(data_bp)\n",
    "\n",
    "# Create a figure instance\n",
    "fig = plt.figure(1, figsize=(15, 34))\n",
    "\n",
    "# Create an axes instance\n",
    "ax = fig.add_subplot(111)\n",
    "\n",
    "# Create the boxplot\n",
    "bxlabs=list(data_bp)\n",
    "\n",
    "# Create the boxplot\n",
    "bp = ax.boxplot(data_scaled,labels=bxlabs,showfliers=True,vert=False)\n",
    "plt.show()"
   ]
  },
  {
   "cell_type": "code",
   "execution_count": 13,
   "metadata": {},
   "outputs": [],
   "source": [
    "#Extracting the target, growthbucket \n",
    "df.createOrReplaceTempView(\"Recession\")\n",
    "count_df=spark.sql(\"SELECT growthbucket FROM Recession\")\n",
    "bucket_rdd=count_df.rdd.map(lambda row : (row.growthbucket))"
   ]
  },
  {
   "cell_type": "code",
   "execution_count": 8,
   "metadata": {},
   "outputs": [
    {
     "data": {
      "image/png": "[encoded data removed]",
      "text/plain": [
       "<Figure size 432x288 with 1 Axes>"
      ]
     },
     "metadata": {
      "needs_background": "light"
     },
     "output_type": "display_data"
    }
   ],
   "source": [
    "plt.hist(bucket_rdd.collect())\n",
    "plt.show()"
   ]
  },
  {
   "cell_type": "markdown",
   "metadata": {},
   "source": [
    "Things observed: \n",
    "\n",
    "1) The features are not of the same scale \n",
    "\n",
    "2) There are no missing observations observations in any of the features \n",
    "\n",
    "3) There are outliers in some features in the data\n",
    "\n",
    "4) There is class imbalance in the target"
   ]
  },
  {
   "cell_type": "markdown",
   "metadata": {},
   "source": [
    "# Feature creation"
   ]
  },
  {
   "cell_type": "markdown",
   "metadata": {},
   "source": [
    "## Featuring engineering"
   ]
  },
  {
   "cell_type": "markdown",
   "metadata": {},
   "source": [
    "### 1) Handling of outliers"
   ]
  },
  {
   "cell_type": "code",
   "execution_count": 15,
   "metadata": {},
   "outputs": [],
   "source": [
    "#Function to impute the outliers with upper or lower limits a distribution\n",
    "def truncate(Ys):\n",
    "    \n",
    "    Q1 = Ys.quantile(0.25)  #First quartile \n",
    "    Q3 = Ys.quantile(0.75)  #Third quartile\n",
    "    IQR = Q3 - Q1           #Interquartile range\n",
    "    upper_bound =  Q3 + (1.5 * IQR)    #Upper limit\n",
    "    lower_bound = Q1 - (1.5 * IQR)       #Lower limit\n",
    "    \n",
    "    #Imputing the outliers with upper and lower limit\n",
    "    value_outlier_Y_up = Ys > upper_bound  \n",
    "    value_outlier_Y_low = Ys < lower_bound\n",
    "    outlier_listUB=len(Ys[value_outlier_Y_up])\n",
    "    outlier_listLB=len(Ys[value_outlier_Y_low])\n",
    "    if outlier_listUB != 0:\n",
    "        Ys = Ys.replace(Ys[value_outlier_Y_up], upper_bound)\n",
    "    if outlier_listLB != 0:\n",
    "        Ys = Ys.replace(Ys[value_outlier_Y_low], lower_bound) \n",
    "    \n",
    "    return Ys"
   ]
  },
  {
   "cell_type": "code",
   "execution_count": 16,
   "metadata": {},
   "outputs": [],
   "source": [
    "#Applying truncate function to the data\n",
    "features= df.columns[0:-1]\n",
    "for feature in features:\n",
    "    df_pd[feature]=truncate(df_pd[feature])"
   ]
  },
  {
   "cell_type": "code",
   "execution_count": 13,
   "metadata": {},
   "outputs": [
    {
     "name": "stdout",
     "output_type": "stream",
     "text": [
      "**************************************\n",
      "pop has 0 outliers\n",
      "**************************************\n",
      "emp has 0 outliers\n",
      "**************************************\n",
      "emp_to_pop_ratio has 0 outliers\n",
      "**************************************\n",
      "hc has 0 outliers\n",
      "**************************************\n",
      "ccon has 0 outliers\n",
      "**************************************\n",
      "cda has 0 outliers\n",
      "**************************************\n",
      "cn has 0 outliers\n",
      "**************************************\n",
      "ck has 0 outliers\n",
      "**************************************\n",
      "ctfp has 0 outliers\n",
      "**************************************\n",
      "cwtfp has 0 outliers\n",
      "**************************************\n",
      "rconna has 0 outliers\n",
      "**************************************\n",
      "rdana has 0 outliers\n",
      "**************************************\n",
      "rnna has 0 outliers\n",
      "**************************************\n",
      "rkna has 0 outliers\n",
      "**************************************\n",
      "rtfpna has 0 outliers\n",
      "**************************************\n",
      "rwtfpna has 0 outliers\n",
      "**************************************\n",
      "labsh has 0 outliers\n",
      "**************************************\n",
      "irr has 0 outliers\n",
      "**************************************\n",
      "delta has 0 outliers\n",
      "**************************************\n",
      "xr has 0 outliers\n",
      "**************************************\n",
      "pl_con has 0 outliers\n",
      "**************************************\n",
      "pl_da has 0 outliers\n",
      "**************************************\n",
      "pl_gdpo has 0 outliers\n",
      "**************************************\n",
      "csh_c has 0 outliers\n",
      "**************************************\n",
      "csh_i has 0 outliers\n",
      "**************************************\n",
      "csh_g has 0 outliers\n",
      "**************************************\n",
      "csh_x has 0 outliers\n",
      "**************************************\n",
      "csh_m has 0 outliers\n",
      "**************************************\n",
      "csh_r has 0 outliers\n",
      "**************************************\n",
      "pl_c has 0 outliers\n",
      "**************************************\n",
      "pl_i has 0 outliers\n",
      "**************************************\n",
      "pl_g has 0 outliers\n",
      "**************************************\n",
      "pl_x has 0 outliers\n",
      "**************************************\n",
      "pl_m has 0 outliers\n",
      "**************************************\n",
      "pl_n has 0 outliers\n",
      "**************************************\n",
      "total has 0 outliers\n",
      "**************************************\n",
      "excl_energy has 0 outliers\n",
      "**************************************\n",
      "energy has 0 outliers\n",
      "**************************************\n",
      "metals_minerals has 0 outliers\n",
      "**************************************\n",
      "forestry has 0 outliers\n",
      "**************************************\n",
      "agriculture has 0 outliers\n",
      "**************************************\n",
      "fish has 0 outliers\n",
      "**************************************\n",
      "total_change has 0 outliers\n",
      "**************************************\n",
      "excl_energy_change has 0 outliers\n",
      "**************************************\n",
      "energy_change has 0 outliers\n",
      "**************************************\n",
      "metals_minerals_change has 0 outliers\n",
      "**************************************\n",
      "forestry_change has 0 outliers\n",
      "**************************************\n",
      "agriculture_change has 0 outliers\n",
      "**************************************\n",
      "fish_change has 0 outliers\n"
     ]
    }
   ],
   "source": [
    "#Check to see if outliers are present in the features after applying truncate function\n",
    "for feature in features:\n",
    "    Q1 = df_pd[feature].quantile(0.25)  #First quartile \n",
    "    Q3 = df_pd[feature].quantile(0.75)  #Third quartile\n",
    "    IQR = Q3 - Q1           #Interquartile range\n",
    "    upper_bound =  Q3 + (1.5 * IQR)    #Upper limit\n",
    "    lower_bound = Q1 - (1.5 * IQR)       #Lower limit\n",
    "    \n",
    "    #Imputing the outliers with upper and lower limit\n",
    "    value_outlier_Y_up = df_pd[feature] > upper_bound  \n",
    "    value_outlier_Y_low = df_pd[feature] < lower_bound\n",
    "    numb_outliers=len(df_pd.loc[value_outlier_Y_up,feature]) + len(df_pd.loc[value_outlier_Y_low,feature])\n",
    "    print(\"**************************************\")\n",
    "    print(\"{} has {} outliers\".format(feature,numb_outliers))"
   ]
  },
  {
   "cell_type": "markdown",
   "metadata": {},
   "source": [
    "### 2) Normalizing the features"
   ]
  },
  {
   "cell_type": "code",
   "execution_count": 17,
   "metadata": {},
   "outputs": [],
   "source": [
    "norm_np=preprocessing.normalize(df_pd.loc[:,features], norm='l2')"
   ]
  },
  {
   "cell_type": "code",
   "execution_count": 18,
   "metadata": {},
   "outputs": [],
   "source": [
    "norm_pd=pd.DataFrame(data=norm_np,columns=features)\n",
    "norm_pd['growthbucket']=df_pd['growthbucket']\n",
    "df_spark=spark.createDataFrame(norm_pd)"
   ]
  },
  {
   "cell_type": "markdown",
   "metadata": {},
   "source": [
    "### 3) Handling class imbalance"
   ]
  },
  {
   "cell_type": "code",
   "execution_count": 19,
   "metadata": {},
   "outputs": [],
   "source": [
    "major_df = df_spark.filter(col(\"growthbucket\") == 0) #Filtering data based on \"No recession\" class\n",
    "minor_df = df_spark.filter(col(\"growthbucket\") == 1) #Filtering data based on \"Recession\" class\n",
    "ratio = int(major_df.count()/minor_df.count())\n",
    "\n",
    "a = range(ratio)\n",
    "# duplicate the minority rows\n",
    "oversampled_df = minor_df.withColumn(\"dummy\", explode(array([lit(x) for x in a]))).drop('dummy')\n",
    "# combine both oversampled minority rows and previous majority rows \n",
    "df_spark_new = major_df.unionAll(oversampled_df)"
   ]
  },
  {
   "cell_type": "code",
   "execution_count": 16,
   "metadata": {},
   "outputs": [
    {
     "name": "stdout",
     "output_type": "stream",
     "text": [
      "+------------+------------+\n",
      "|growthbucket|distribution|\n",
      "+------------+------------+\n",
      "|           0|         448|\n",
      "|           1|         418|\n",
      "+------------+------------+\n",
      "\n"
     ]
    }
   ],
   "source": [
    "#Checking distribution of growthbucket variable\n",
    "df_spark_new.createOrReplaceTempView(\"Rec_new\")\n",
    "spark.sql(\"select growthbucket, count(*) as distribution from Rec_new group by growthbucket\").show()"
   ]
  },
  {
   "cell_type": "markdown",
   "metadata": {},
   "source": [
    "# Modelling with traditional machine learning algorithm"
   ]
  },
  {
   "cell_type": "code",
   "execution_count": 20,
   "metadata": {},
   "outputs": [],
   "source": [
    "#Splitting data into training and testing data\n",
    "(trainingData, testData) = df_spark_new.randomSplit([0.8, 0.2])"
   ]
  },
  {
   "cell_type": "code",
   "execution_count": 41,
   "metadata": {},
   "outputs": [
    {
     "name": "stdout",
     "output_type": "stream",
     "text": [
      "['pop', 'emp', 'emp_to_pop_ratio', 'hc', 'ccon', 'cda', 'cn', 'ck', 'ctfp', 'cwtfp', 'rconna', 'rdana', 'rnna', 'rkna', 'rtfpna', 'rwtfpna', 'labsh', 'irr', 'delta', 'xr', 'pl_con', 'pl_da', 'pl_gdpo', 'csh_c', 'csh_i', 'csh_g', 'csh_x', 'csh_m', 'csh_r', 'pl_c', 'pl_i', 'pl_g', 'pl_x', 'pl_m', 'pl_n', 'total', 'excl_energy', 'energy', 'metals_minerals', 'forestry', 'agriculture', 'fish', 'total_change', 'excl_energy_change', 'energy_change', 'metals_minerals_change', 'forestry_change', 'agriculture_change', 'fish_change', 'growthbucket']\n"
     ]
    }
   ],
   "source": [
    "print(trainingData.columns)"
   ]
  },
  {
   "cell_type": "markdown",
   "metadata": {},
   "source": [
    "### 1) Building model with 5-fold cross validation"
   ]
  },
  {
   "cell_type": "code",
   "execution_count": 19,
   "metadata": {},
   "outputs": [],
   "source": [
    "vectorAssembler =  VectorAssembler(inputCols=features, outputCol=\"features\") #Initializing vector assembler constructor\n",
    "classifier = RandomForestClassifier(featuresCol='features', labelCol='growthbucket') #Initializing random forest classifier constructor\n",
    "evaluator = BinaryClassificationEvaluator(labelCol='growthbucket')\n",
    "#grid = ParamGridBuilder().addGrid(classifier.maxIter, [0, 1]).build()import numpy as np\n",
    "\n",
    "paramGrid = ParamGridBuilder() \\\n",
    "    .addGrid(classifier.numTrees, [int(x) for x in np.linspace(start = 10, stop = 50, num = 3)]) \\\n",
    "    .addGrid(classifier.maxDepth, [int(x) for x in np.linspace(start = 5, stop = 25, num = 3)]) \\\n",
    "    .build()"
   ]
  },
  {
   "cell_type": "code",
   "execution_count": 20,
   "metadata": {},
   "outputs": [],
   "source": [
    "pipeline = Pipeline(stages=[vectorAssembler, classifier]) #Initializing the pipeline constructor with vector assembler and classifier"
   ]
  },
  {
   "cell_type": "code",
   "execution_count": 44,
   "metadata": {},
   "outputs": [],
   "source": [
    "#Initialising the cross validator\n",
    "crossval = CrossValidator(estimator=pipeline,\n",
    "                          estimatorParamMaps=paramGrid,\n",
    "                          evaluator=evaluator,\n",
    "                          numFolds=5)"
   ]
  },
  {
   "cell_type": "code",
   "execution_count": 45,
   "metadata": {},
   "outputs": [],
   "source": [
    "#Fitting model on training data\n",
    "best_model = crossval.fit(trainingData)"
   ]
  },
  {
   "cell_type": "code",
   "execution_count": 51,
   "metadata": {},
   "outputs": [
    {
     "name": "stdout",
     "output_type": "stream",
     "text": [
      "Accuracy :  100.0\n"
     ]
    }
   ],
   "source": [
    "#Evaluating model on test data\n",
    "predictions=best_model.transform(testData)\n",
    "print(\"Accuracy : \",evaluator.evaluate(predictions)*100)"
   ]
  },
  {
   "cell_type": "code",
   "execution_count": 21,
   "metadata": {},
   "outputs": [],
   "source": [
    "#Function to summarise the recall, precision and F1-score of a model\n",
    "def metrics(target,prediction):\n",
    "    print(\"**********************\")\n",
    "    print(\"Recall : \",recall_score(target, prediction, average='binary')*100)\n",
    "    print(\"**********************\")\n",
    "    print(\"Precission : \", precision_score(target, prediction, average='binary')*100 )\n",
    "    print(\"**********************\")\n",
    "    print(\"F1 score : \", f1_score(target, prediction, average='binary')*100 )"
   ]
  },
  {
   "cell_type": "code",
   "execution_count": 50,
   "metadata": {},
   "outputs": [
    {
     "name": "stdout",
     "output_type": "stream",
     "text": [
      "**********************\n",
      "Recall :  100.0\n",
      "**********************\n",
      "Precission :  100.0\n",
      "**********************\n",
      "F1 score :  100.0\n"
     ]
    }
   ],
   "source": [
    "target_cv=testData.rdd.map(lambda row : (row.growthbucket)).collect()\n",
    "prediction_cv=predictions.rdd.map(lambda row : (row.prediction)).collect()\n",
    "metrics(target_cv,prediction_cv)"
   ]
  },
  {
   "cell_type": "code",
   "execution_count": 60,
   "metadata": {},
   "outputs": [
    {
     "name": "stdout",
     "output_type": "stream",
     "text": [
      "+----------+------------+\n",
      "|prediction|distribution|\n",
      "+----------+------------+\n",
      "|       0.0|          87|\n",
      "|       1.0|          84|\n",
      "+----------+------------+\n",
      "\n"
     ]
    }
   ],
   "source": [
    "#Distribution of the predicted classes\n",
    "spark.sql(\"select prediction, count(*) as distribution from prediction group by prediction\").show()"
   ]
  },
  {
   "cell_type": "code",
   "execution_count": 61,
   "metadata": {},
   "outputs": [],
   "source": []
  },
  {
   "cell_type": "code",
   "execution_count": null,
   "metadata": {},
   "outputs": [],
   "source": []
  },
  {
   "cell_type": "markdown",
   "metadata": {},
   "source": [
    "### 2) Building model with Validation set approach"
   ]
  },
  {
   "cell_type": "code",
   "execution_count": 21,
   "metadata": {},
   "outputs": [],
   "source": [
    "#Fitting model to training data\n",
    "vs_model = pipeline.fit(trainingData)"
   ]
  },
  {
   "cell_type": "code",
   "execution_count": 52,
   "metadata": {},
   "outputs": [
    {
     "name": "stdout",
     "output_type": "stream",
     "text": [
      "Accuracy :  99.624765478424\n"
     ]
    }
   ],
   "source": [
    "#Evaluating model on test data\n",
    "predictions2=vs_model.transform(testData)\n",
    "print(\"Accuracy : \",evaluator.evaluate(predictions2)*100)"
   ]
  },
  {
   "cell_type": "code",
   "execution_count": 47,
   "metadata": {},
   "outputs": [],
   "source": [
    "target_vs=testData.rdd.map(lambda row : (row.growthbucket)).collect()\n",
    "prediction_vs=predictions2.rdd.map(lambda row : (row.prediction)).collect()"
   ]
  },
  {
   "cell_type": "code",
   "execution_count": 48,
   "metadata": {},
   "outputs": [
    {
     "name": "stdout",
     "output_type": "stream",
     "text": [
      "**********************\n",
      "Recall :  100.0\n",
      "**********************\n",
      "Precission :  93.18181818181817\n",
      "**********************\n",
      "F1 score :  96.47058823529412\n"
     ]
    }
   ],
   "source": [
    "metrics(target_vs,prediction_vs)"
   ]
  },
  {
   "cell_type": "markdown",
   "metadata": {},
   "source": [
    "In conclusion, the random forest classifier trained with the 5-fold cross validation is better than that trained with validation set approach. This was based on the comparison of their respective accuracies and F1 score. "
   ]
  },
  {
   "cell_type": "markdown",
   "metadata": {},
   "source": [
    "Next we want know how much each recession indicator is contributing to prediction of recession "
   ]
  },
  {
   "cell_type": "code",
   "execution_count": 62,
   "metadata": {},
   "outputs": [],
   "source": [
    "def ExtractFeatureImp(featureImp, dataset, featuresCol):\n",
    "    list_extract = []\n",
    "    for i in dataset.schema[featuresCol].metadata[\"ml_attr\"][\"attrs\"]:\n",
    "        list_extract = list_extract + dataset.schema[featuresCol].metadata[\"ml_attr\"][\"attrs\"][i]\n",
    "    varlist = pd.DataFrame(list_extract)\n",
    "    varlist['score'] = varlist['idx'].apply(lambda x: featureImp[x])\n",
    "    return(varlist.sort_values('score', ascending = False))"
   ]
  },
  {
   "cell_type": "code",
   "execution_count": 66,
   "metadata": {},
   "outputs": [
    {
     "data": {
      "text/html": [
       "<div>\n",
       "<style scoped>\n",
       "    .dataframe tbody tr th:only-of-type {\n",
       "        vertical-align: middle;\n",
       "    }\n",
       "\n",
       "    .dataframe tbody tr th {\n",
       "        vertical-align: top;\n",
       "    }\n",
       "\n",
       "    .dataframe thead th {\n",
       "        text-align: right;\n",
       "    }\n",
       "</style>\n",
       "<table border=\"1\" class=\"dataframe\">\n",
       "  <thead>\n",
       "    <tr style=\"text-align: right;\">\n",
       "      <th></th>\n",
       "      <th>name</th>\n",
       "      <th>score</th>\n",
       "    </tr>\n",
       "  </thead>\n",
       "  <tbody>\n",
       "    <tr>\n",
       "      <th>10</th>\n",
       "      <td>rconna</td>\n",
       "      <td>0.094744</td>\n",
       "    </tr>\n",
       "    <tr>\n",
       "      <th>4</th>\n",
       "      <td>ccon</td>\n",
       "      <td>0.051333</td>\n",
       "    </tr>\n",
       "    <tr>\n",
       "      <th>11</th>\n",
       "      <td>rdana</td>\n",
       "      <td>0.037552</td>\n",
       "    </tr>\n",
       "    <tr>\n",
       "      <th>19</th>\n",
       "      <td>xr</td>\n",
       "      <td>0.033638</td>\n",
       "    </tr>\n",
       "    <tr>\n",
       "      <th>7</th>\n",
       "      <td>ck</td>\n",
       "      <td>0.032666</td>\n",
       "    </tr>\n",
       "    <tr>\n",
       "      <th>14</th>\n",
       "      <td>rtfpna</td>\n",
       "      <td>0.032371</td>\n",
       "    </tr>\n",
       "    <tr>\n",
       "      <th>18</th>\n",
       "      <td>delta</td>\n",
       "      <td>0.031196</td>\n",
       "    </tr>\n",
       "    <tr>\n",
       "      <th>6</th>\n",
       "      <td>cn</td>\n",
       "      <td>0.030347</td>\n",
       "    </tr>\n",
       "    <tr>\n",
       "      <th>29</th>\n",
       "      <td>pl_c</td>\n",
       "      <td>0.029530</td>\n",
       "    </tr>\n",
       "    <tr>\n",
       "      <th>15</th>\n",
       "      <td>rwtfpna</td>\n",
       "      <td>0.029114</td>\n",
       "    </tr>\n",
       "    <tr>\n",
       "      <th>27</th>\n",
       "      <td>csh_m</td>\n",
       "      <td>0.028558</td>\n",
       "    </tr>\n",
       "    <tr>\n",
       "      <th>43</th>\n",
       "      <td>excl_energy_change</td>\n",
       "      <td>0.027468</td>\n",
       "    </tr>\n",
       "    <tr>\n",
       "      <th>12</th>\n",
       "      <td>rnna</td>\n",
       "      <td>0.025633</td>\n",
       "    </tr>\n",
       "    <tr>\n",
       "      <th>22</th>\n",
       "      <td>pl_gdpo</td>\n",
       "      <td>0.024048</td>\n",
       "    </tr>\n",
       "    <tr>\n",
       "      <th>32</th>\n",
       "      <td>pl_x</td>\n",
       "      <td>0.023350</td>\n",
       "    </tr>\n",
       "    <tr>\n",
       "      <th>26</th>\n",
       "      <td>csh_x</td>\n",
       "      <td>0.023299</td>\n",
       "    </tr>\n",
       "    <tr>\n",
       "      <th>44</th>\n",
       "      <td>energy_change</td>\n",
       "      <td>0.023070</td>\n",
       "    </tr>\n",
       "    <tr>\n",
       "      <th>46</th>\n",
       "      <td>forestry_change</td>\n",
       "      <td>0.023030</td>\n",
       "    </tr>\n",
       "    <tr>\n",
       "      <th>9</th>\n",
       "      <td>cwtfp</td>\n",
       "      <td>0.021760</td>\n",
       "    </tr>\n",
       "    <tr>\n",
       "      <th>47</th>\n",
       "      <td>agriculture_change</td>\n",
       "      <td>0.020253</td>\n",
       "    </tr>\n",
       "    <tr>\n",
       "      <th>28</th>\n",
       "      <td>csh_r</td>\n",
       "      <td>0.019532</td>\n",
       "    </tr>\n",
       "    <tr>\n",
       "      <th>0</th>\n",
       "      <td>pop</td>\n",
       "      <td>0.019410</td>\n",
       "    </tr>\n",
       "    <tr>\n",
       "      <th>48</th>\n",
       "      <td>fish_change</td>\n",
       "      <td>0.018689</td>\n",
       "    </tr>\n",
       "    <tr>\n",
       "      <th>25</th>\n",
       "      <td>csh_g</td>\n",
       "      <td>0.017042</td>\n",
       "    </tr>\n",
       "    <tr>\n",
       "      <th>38</th>\n",
       "      <td>metals_minerals</td>\n",
       "      <td>0.016961</td>\n",
       "    </tr>\n",
       "    <tr>\n",
       "      <th>24</th>\n",
       "      <td>csh_i</td>\n",
       "      <td>0.016796</td>\n",
       "    </tr>\n",
       "    <tr>\n",
       "      <th>36</th>\n",
       "      <td>excl_energy</td>\n",
       "      <td>0.016576</td>\n",
       "    </tr>\n",
       "    <tr>\n",
       "      <th>34</th>\n",
       "      <td>pl_n</td>\n",
       "      <td>0.016017</td>\n",
       "    </tr>\n",
       "    <tr>\n",
       "      <th>2</th>\n",
       "      <td>emp_to_pop_ratio</td>\n",
       "      <td>0.014278</td>\n",
       "    </tr>\n",
       "    <tr>\n",
       "      <th>20</th>\n",
       "      <td>pl_con</td>\n",
       "      <td>0.014240</td>\n",
       "    </tr>\n",
       "    <tr>\n",
       "      <th>16</th>\n",
       "      <td>labsh</td>\n",
       "      <td>0.014129</td>\n",
       "    </tr>\n",
       "    <tr>\n",
       "      <th>39</th>\n",
       "      <td>forestry</td>\n",
       "      <td>0.014069</td>\n",
       "    </tr>\n",
       "    <tr>\n",
       "      <th>31</th>\n",
       "      <td>pl_g</td>\n",
       "      <td>0.013964</td>\n",
       "    </tr>\n",
       "    <tr>\n",
       "      <th>5</th>\n",
       "      <td>cda</td>\n",
       "      <td>0.013075</td>\n",
       "    </tr>\n",
       "    <tr>\n",
       "      <th>45</th>\n",
       "      <td>metals_minerals_change</td>\n",
       "      <td>0.012054</td>\n",
       "    </tr>\n",
       "    <tr>\n",
       "      <th>30</th>\n",
       "      <td>pl_i</td>\n",
       "      <td>0.011475</td>\n",
       "    </tr>\n",
       "    <tr>\n",
       "      <th>23</th>\n",
       "      <td>csh_c</td>\n",
       "      <td>0.011402</td>\n",
       "    </tr>\n",
       "    <tr>\n",
       "      <th>3</th>\n",
       "      <td>hc</td>\n",
       "      <td>0.011321</td>\n",
       "    </tr>\n",
       "    <tr>\n",
       "      <th>40</th>\n",
       "      <td>agriculture</td>\n",
       "      <td>0.010458</td>\n",
       "    </tr>\n",
       "    <tr>\n",
       "      <th>37</th>\n",
       "      <td>energy</td>\n",
       "      <td>0.010175</td>\n",
       "    </tr>\n",
       "    <tr>\n",
       "      <th>42</th>\n",
       "      <td>total_change</td>\n",
       "      <td>0.010120</td>\n",
       "    </tr>\n",
       "    <tr>\n",
       "      <th>17</th>\n",
       "      <td>irr</td>\n",
       "      <td>0.009870</td>\n",
       "    </tr>\n",
       "    <tr>\n",
       "      <th>41</th>\n",
       "      <td>fish</td>\n",
       "      <td>0.008684</td>\n",
       "    </tr>\n",
       "    <tr>\n",
       "      <th>1</th>\n",
       "      <td>emp</td>\n",
       "      <td>0.007497</td>\n",
       "    </tr>\n",
       "    <tr>\n",
       "      <th>8</th>\n",
       "      <td>ctfp</td>\n",
       "      <td>0.007076</td>\n",
       "    </tr>\n",
       "    <tr>\n",
       "      <th>35</th>\n",
       "      <td>total</td>\n",
       "      <td>0.006889</td>\n",
       "    </tr>\n",
       "    <tr>\n",
       "      <th>33</th>\n",
       "      <td>pl_m</td>\n",
       "      <td>0.006413</td>\n",
       "    </tr>\n",
       "    <tr>\n",
       "      <th>13</th>\n",
       "      <td>rkna</td>\n",
       "      <td>0.004488</td>\n",
       "    </tr>\n",
       "    <tr>\n",
       "      <th>21</th>\n",
       "      <td>pl_da</td>\n",
       "      <td>0.004341</td>\n",
       "    </tr>\n",
       "  </tbody>\n",
       "</table>\n",
       "</div>"
      ],
      "text/plain": [
       "                      name     score\n",
       "10                  rconna  0.094744\n",
       "4                     ccon  0.051333\n",
       "11                   rdana  0.037552\n",
       "19                      xr  0.033638\n",
       "7                       ck  0.032666\n",
       "14                  rtfpna  0.032371\n",
       "18                   delta  0.031196\n",
       "6                       cn  0.030347\n",
       "29                    pl_c  0.029530\n",
       "15                 rwtfpna  0.029114\n",
       "27                   csh_m  0.028558\n",
       "43      excl_energy_change  0.027468\n",
       "12                    rnna  0.025633\n",
       "22                 pl_gdpo  0.024048\n",
       "32                    pl_x  0.023350\n",
       "26                   csh_x  0.023299\n",
       "44           energy_change  0.023070\n",
       "46         forestry_change  0.023030\n",
       "9                    cwtfp  0.021760\n",
       "47      agriculture_change  0.020253\n",
       "28                   csh_r  0.019532\n",
       "0                      pop  0.019410\n",
       "48             fish_change  0.018689\n",
       "25                   csh_g  0.017042\n",
       "38         metals_minerals  0.016961\n",
       "24                   csh_i  0.016796\n",
       "36             excl_energy  0.016576\n",
       "34                    pl_n  0.016017\n",
       "2         emp_to_pop_ratio  0.014278\n",
       "20                  pl_con  0.014240\n",
       "16                   labsh  0.014129\n",
       "39                forestry  0.014069\n",
       "31                    pl_g  0.013964\n",
       "5                      cda  0.013075\n",
       "45  metals_minerals_change  0.012054\n",
       "30                    pl_i  0.011475\n",
       "23                   csh_c  0.011402\n",
       "3                       hc  0.011321\n",
       "40             agriculture  0.010458\n",
       "37                  energy  0.010175\n",
       "42            total_change  0.010120\n",
       "17                     irr  0.009870\n",
       "41                    fish  0.008684\n",
       "1                      emp  0.007497\n",
       "8                     ctfp  0.007076\n",
       "35                   total  0.006889\n",
       "33                    pl_m  0.006413\n",
       "13                    rkna  0.004488\n",
       "21                   pl_da  0.004341"
      ]
     },
     "execution_count": 66,
     "metadata": {},
     "output_type": "execute_result"
    }
   ],
   "source": [
    "feat_imp=best_model.stages[-1].featureImportances\n",
    "imp_df=ExtractFeatureImp(feat_imp, predictions, \"features\").loc[:,[\"name\",\"score\"]]\n",
    "imp_df.sort_values(by=\"score\", axis=0, ascending=False, inplace=False, kind='quicksort', na_position='last')"
   ]
  },
  {
   "cell_type": "code",
   "execution_count": 70,
   "metadata": {},
   "outputs": [
    {
     "name": "stdout",
     "output_type": "stream",
     "text": [
      "Features with importance above average :  ['rconna', 'ccon', 'rdana', 'xr', 'ck', 'rtfpna', 'delta', 'cn', 'pl_c', 'rwtfpna', 'csh_m', 'excl_energy_change', 'rnna', 'pl_gdpo', 'pl_x', 'csh_x', 'energy_change', 'forestry_change', 'cwtfp']\n"
     ]
    }
   ],
   "source": [
    "mean_score=imp_df[\"score\"].mean()\n",
    "print(\"Features with importance above average : \",list(imp_df.loc[imp_df[\"score\"]>mean_score,\"name\"]))"
   ]
  },
  {
   "cell_type": "markdown",
   "metadata": {},
   "source": [
    "# Save and loading model"
   ]
  },
  {
   "cell_type": "code",
   "execution_count": 70,
   "metadata": {},
   "outputs": [],
   "source": [
    "#Saving model\n",
    "best_model.bestModel.write().overwrite().save(\"Best_model\")"
   ]
  },
  {
   "cell_type": "code",
   "execution_count": 33,
   "metadata": {},
   "outputs": [],
   "source": [
    "#Loading in the saved model into program\n",
    "best_model=PipelineModel.load(\"Best_model\")"
   ]
  },
  {
   "cell_type": "code",
   "execution_count": 34,
   "metadata": {},
   "outputs": [
    {
     "data": {
      "text/plain": [
       "100.0"
      ]
     },
     "execution_count": 34,
     "metadata": {},
     "output_type": "execute_result"
    }
   ],
   "source": [
    "loaded_preds=loaded_model.transform(testData)\n",
    "evaluator.evaluate(loaded_preds)*100"
   ]
  },
  {
   "cell_type": "markdown",
   "metadata": {},
   "source": [
    "# Modelling with deep learning algorithm"
   ]
  },
  {
   "cell_type": "markdown",
   "metadata": {},
   "source": [
    "### 1) Training network with validation set approach"
   ]
  },
  {
   "cell_type": "code",
   "execution_count": 22,
   "metadata": {},
   "outputs": [],
   "source": [
    "train_X=np.array(trainingData.select(features).collect())\n",
    "train_y=np.array(trainingData.select(\"growthbucket\").collect())\n",
    "test_X=np.array(testData.select(features).collect())\n",
    "test_y=np.array(testData.select(\"growthbucket\").collect())"
   ]
  },
  {
   "cell_type": "code",
   "execution_count": 23,
   "metadata": {},
   "outputs": [],
   "source": [
    "number_of_neurons_layer1 = 12 #input layer\n",
    "number_of_neurons_layer2 = 8 #hidden layer\n",
    "number_of_neurons_layer3 =1 #output layer\n",
    "number_of_epochs = 150 #Number of epochs"
   ]
  },
  {
   "cell_type": "code",
   "execution_count": 24,
   "metadata": {},
   "outputs": [
    {
     "name": "stdout",
     "output_type": "stream",
     "text": [
      "WARNING:tensorflow:From <ipython-input-24-a2b9c38737a3>:9: Sequential.predict_classes (from tensorflow.python.keras.engine.sequential) is deprecated and will be removed after 2021-01-01.\n",
      "Instructions for updating:\n",
      "Please use instead:* `np.argmax(model.predict(x), axis=-1)`,   if your model does multi-class classification   (e.g. if it uses a `softmax` last-layer activation).* `(model.predict(x) > 0.5).astype(\"int32\")`,   if your model does binary classification   (e.g. if it uses a `sigmoid` last-layer activation).\n",
      "Accuracy trained with Adam  80.54054054054053\n",
      "Accuracy trained with Adadelta  44.32432432432433\n",
      "Accuracy trained with Adagrad  56.75675675675676\n",
      "Accuracy trained with Adamax  71.35135135135135\n"
     ]
    }
   ],
   "source": [
    "optimizers = ['Adam','Adadelta','Adagrad','Adamax']\n",
    "for opt in optimizers:\n",
    "    model = Sequential()\n",
    "    model.add(Dense(number_of_neurons_layer1,input_shape=(train_X.shape[1], ), activation='relu'))\n",
    "    model.add(Dense(number_of_neurons_layer2, activation='relu'))\n",
    "    model.add(Dense(number_of_neurons_layer3, activation='sigmoid'))\n",
    "    model.compile(loss='binary_crossentropy', optimizer=opt,metrics=['accuracy'])\n",
    "    model.fit(train_X,train_y ,epochs=number_of_epochs, batch_size=10, verbose=0, shuffle=True)\n",
    "    deep_pred=model.predict_classes(test_X)\n",
    "    print(\"Accuracy trained with {} \".format(opt),accuracy_score(test_y, deep_pred)*100 )"
   ]
  },
  {
   "cell_type": "code",
   "execution_count": 25,
   "metadata": {},
   "outputs": [
    {
     "data": {
      "text/plain": [
       "<tensorflow.python.keras.callbacks.History at 0x7fe3ec640ba8>"
      ]
     },
     "execution_count": 25,
     "metadata": {},
     "output_type": "execute_result"
    }
   ],
   "source": [
    "model = Sequential()\n",
    "model.add(Dense(number_of_neurons_layer1,input_shape=(train_X.shape[1], ), activation='relu'))\n",
    "model.add(Dense(number_of_neurons_layer2, activation='relu'))\n",
    "model.add(Dense(number_of_neurons_layer3, activation='sigmoid'))\n",
    "model.compile(loss='binary_crossentropy', optimizer=\"Adam\",metrics=['accuracy'])\n",
    "model.fit(train_X,train_y ,epochs=number_of_epochs, batch_size=10, verbose=0, shuffle=True)"
   ]
  },
  {
   "cell_type": "code",
   "execution_count": 27,
   "metadata": {},
   "outputs": [
    {
     "name": "stdout",
     "output_type": "stream",
     "text": [
      "**********************\n",
      "Recall :  90.72164948453609\n",
      "**********************\n",
      "Precission :  77.87610619469027\n",
      "**********************\n",
      "F1 score :  83.80952380952381\n"
     ]
    }
   ],
   "source": [
    "metrics(test_y,model.predict_classes(test_X))"
   ]
  },
  {
   "cell_type": "code",
   "execution_count": 64,
   "metadata": {},
   "outputs": [],
   "source": []
  },
  {
   "cell_type": "code",
   "execution_count": 44,
   "metadata": {},
   "outputs": [],
   "source": []
  },
  {
   "cell_type": "code",
   "execution_count": null,
   "metadata": {},
   "outputs": [],
   "source": []
  },
  {
   "cell_type": "code",
   "execution_count": 71,
   "metadata": {},
   "outputs": [],
   "source": []
  },
  {
   "cell_type": "code",
   "execution_count": null,
   "metadata": {},
   "outputs": [],
   "source": []
  }
 ],
 "metadata": {
  "kernelspec": {
   "display_name": "Python",
   "language": "python",
   "name": "conda-env-python-py"
  },
  "language_info": {
   "codemirror_mode": {
    "name": "ipython",
    "version": 3
   },
   "file_extension": ".py",
   "mimetype": "text/x-python",
   "name": "python",
   "nbconvert_exporter": "python",
   "pygments_lexer": "ipython3",
   "version": "3.6.10"
  }
 },
 "nbformat": 4,
 "nbformat_minor": 4
}
